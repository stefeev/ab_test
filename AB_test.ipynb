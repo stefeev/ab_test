{
 "cells": [
  {
   "cell_type": "markdown",
   "id": "c0c2c2f5",
   "metadata": {},
   "source": [
    "# A/B-тестирование новой системы оплаты на сайте"
   ]
  },
  {
   "cell_type": "markdown",
   "id": "3775b85b",
   "metadata": {},
   "source": [
    "Группе B предложена новая механика оплаты услуг на сайте, при этом у контрольной группы А сохранилась прежняя механика.\n",
    "<br>\n",
    "В таблице groups содержится информация об айди пользователей и их принадлежность к тестовой или контрольной группе.\n",
    "<br>\n",
    "В таблице groups_add - новые пользователи, которые пришли на сайт во время проведения эксперимента, и их принадлежность к группам. Высылается раз в день.\n",
    "<br>\n",
    "В таблице active_studs - айди пользователей, которые заходили на сайт во время эксперимента.\n",
    "<br>\n",
    "В таблице checks - айди и суммы, которые пользователи потратили на сайте во время эксперимента.\n",
    "<br>\n",
    "Необходимо для начала выбрать метрики, на которые может повлиять изменение. Далее - проанализировать итоги эксперимента и решить, стоит ли распространять новую механику на всех пользователей."
   ]
  },
  {
   "cell_type": "code",
   "execution_count": 1,
   "id": "36dbff5b",
   "metadata": {},
   "outputs": [],
   "source": [
    "import pandas as pd\n",
    "import numpy as np\n",
    "\n",
    "import matplotlib.pyplot as plt\n",
    "import seaborn as sns\n",
    "%matplotlib inline\n",
    "\n",
    "import scipy.stats\n",
    "from scipy.stats import chi2_contingency, chi2 "
   ]
  },
  {
   "cell_type": "code",
   "execution_count": 417,
   "id": "81fd2613",
   "metadata": {},
   "outputs": [
    {
     "data": {
      "text/html": [
       "<div>\n",
       "<style scoped>\n",
       "    .dataframe tbody tr th:only-of-type {\n",
       "        vertical-align: middle;\n",
       "    }\n",
       "\n",
       "    .dataframe tbody tr th {\n",
       "        vertical-align: top;\n",
       "    }\n",
       "\n",
       "    .dataframe thead th {\n",
       "        text-align: right;\n",
       "    }\n",
       "</style>\n",
       "<table border=\"1\" class=\"dataframe\">\n",
       "  <thead>\n",
       "    <tr style=\"text-align: right;\">\n",
       "      <th></th>\n",
       "      <th>id</th>\n",
       "      <th>grp</th>\n",
       "    </tr>\n",
       "  </thead>\n",
       "  <tbody>\n",
       "    <tr>\n",
       "      <th>0</th>\n",
       "      <td>1489</td>\n",
       "      <td>B</td>\n",
       "    </tr>\n",
       "    <tr>\n",
       "      <th>1</th>\n",
       "      <td>1627</td>\n",
       "      <td>A</td>\n",
       "    </tr>\n",
       "    <tr>\n",
       "      <th>2</th>\n",
       "      <td>1768</td>\n",
       "      <td>B</td>\n",
       "    </tr>\n",
       "    <tr>\n",
       "      <th>3</th>\n",
       "      <td>1783</td>\n",
       "      <td>B</td>\n",
       "    </tr>\n",
       "    <tr>\n",
       "      <th>4</th>\n",
       "      <td>1794</td>\n",
       "      <td>A</td>\n",
       "    </tr>\n",
       "    <tr>\n",
       "      <th>...</th>\n",
       "      <td>...</td>\n",
       "      <td>...</td>\n",
       "    </tr>\n",
       "    <tr>\n",
       "      <th>74479</th>\n",
       "      <td>5692459</td>\n",
       "      <td>B</td>\n",
       "    </tr>\n",
       "    <tr>\n",
       "      <th>74480</th>\n",
       "      <td>5692572</td>\n",
       "      <td>B</td>\n",
       "    </tr>\n",
       "    <tr>\n",
       "      <th>74481</th>\n",
       "      <td>5692865</td>\n",
       "      <td>B</td>\n",
       "    </tr>\n",
       "    <tr>\n",
       "      <th>74482</th>\n",
       "      <td>5693667</td>\n",
       "      <td>B</td>\n",
       "    </tr>\n",
       "    <tr>\n",
       "      <th>74483</th>\n",
       "      <td>5694419</td>\n",
       "      <td>B</td>\n",
       "    </tr>\n",
       "  </tbody>\n",
       "</table>\n",
       "<p>74484 rows × 2 columns</p>\n",
       "</div>"
      ],
      "text/plain": [
       "            id grp\n",
       "0         1489   B\n",
       "1         1627   A\n",
       "2         1768   B\n",
       "3         1783   B\n",
       "4         1794   A\n",
       "...        ...  ..\n",
       "74479  5692459   B\n",
       "74480  5692572   B\n",
       "74481  5692865   B\n",
       "74482  5693667   B\n",
       "74483  5694419   B\n",
       "\n",
       "[74484 rows x 2 columns]"
      ]
     },
     "execution_count": 417,
     "metadata": {},
     "output_type": "execute_result"
    }
   ],
   "source": [
    "groups = pd.read_csv('Проект_2_groups.csv', sep=';')\n",
    "groups"
   ]
  },
  {
   "cell_type": "code",
   "execution_count": 10,
   "id": "19460c45",
   "metadata": {},
   "outputs": [
    {
     "data": {
      "text/plain": [
       "B    59813\n",
       "A    14671\n",
       "Name: grp, dtype: int64"
      ]
     },
     "execution_count": 10,
     "metadata": {},
     "output_type": "execute_result"
    }
   ],
   "source": [
    "groups.grp.value_counts()"
   ]
  },
  {
   "cell_type": "code",
   "execution_count": 418,
   "id": "81551ff8",
   "metadata": {},
   "outputs": [
    {
     "data": {
      "text/html": [
       "<div>\n",
       "<style scoped>\n",
       "    .dataframe tbody tr th:only-of-type {\n",
       "        vertical-align: middle;\n",
       "    }\n",
       "\n",
       "    .dataframe tbody tr th {\n",
       "        vertical-align: top;\n",
       "    }\n",
       "\n",
       "    .dataframe thead th {\n",
       "        text-align: right;\n",
       "    }\n",
       "</style>\n",
       "<table border=\"1\" class=\"dataframe\">\n",
       "  <thead>\n",
       "    <tr style=\"text-align: right;\">\n",
       "      <th></th>\n",
       "      <th>id</th>\n",
       "      <th>grp</th>\n",
       "    </tr>\n",
       "  </thead>\n",
       "  <tbody>\n",
       "    <tr>\n",
       "      <th>0</th>\n",
       "      <td>5694584</td>\n",
       "      <td>B</td>\n",
       "    </tr>\n",
       "    <tr>\n",
       "      <th>1</th>\n",
       "      <td>5694830</td>\n",
       "      <td>B</td>\n",
       "    </tr>\n",
       "    <tr>\n",
       "      <th>2</th>\n",
       "      <td>5695057</td>\n",
       "      <td>B</td>\n",
       "    </tr>\n",
       "    <tr>\n",
       "      <th>3</th>\n",
       "      <td>5698872</td>\n",
       "      <td>B</td>\n",
       "    </tr>\n",
       "    <tr>\n",
       "      <th>4</th>\n",
       "      <td>5699067</td>\n",
       "      <td>B</td>\n",
       "    </tr>\n",
       "    <tr>\n",
       "      <th>...</th>\n",
       "      <td>...</td>\n",
       "      <td>...</td>\n",
       "    </tr>\n",
       "    <tr>\n",
       "      <th>87</th>\n",
       "      <td>200247820</td>\n",
       "      <td>B</td>\n",
       "    </tr>\n",
       "    <tr>\n",
       "      <th>88</th>\n",
       "      <td>201032527</td>\n",
       "      <td>B</td>\n",
       "    </tr>\n",
       "    <tr>\n",
       "      <th>89</th>\n",
       "      <td>201067612</td>\n",
       "      <td>B</td>\n",
       "    </tr>\n",
       "    <tr>\n",
       "      <th>90</th>\n",
       "      <td>201067653</td>\n",
       "      <td>B</td>\n",
       "    </tr>\n",
       "    <tr>\n",
       "      <th>91</th>\n",
       "      <td>201067659</td>\n",
       "      <td>B</td>\n",
       "    </tr>\n",
       "  </tbody>\n",
       "</table>\n",
       "<p>92 rows × 2 columns</p>\n",
       "</div>"
      ],
      "text/plain": [
       "           id grp\n",
       "0     5694584   B\n",
       "1     5694830   B\n",
       "2     5695057   B\n",
       "3     5698872   B\n",
       "4     5699067   B\n",
       "..        ...  ..\n",
       "87  200247820   B\n",
       "88  201032527   B\n",
       "89  201067612   B\n",
       "90  201067653   B\n",
       "91  201067659   B\n",
       "\n",
       "[92 rows x 2 columns]"
      ]
     },
     "execution_count": 418,
     "metadata": {},
     "output_type": "execute_result"
    }
   ],
   "source": [
    "groups_add = pd.read_csv('Проект_2_group_add.csv', sep=',')\n",
    "groups_add"
   ]
  },
  {
   "cell_type": "code",
   "execution_count": 419,
   "id": "2475d4c0",
   "metadata": {},
   "outputs": [
    {
     "data": {
      "text/html": [
       "<div>\n",
       "<style scoped>\n",
       "    .dataframe tbody tr th:only-of-type {\n",
       "        vertical-align: middle;\n",
       "    }\n",
       "\n",
       "    .dataframe tbody tr th {\n",
       "        vertical-align: top;\n",
       "    }\n",
       "\n",
       "    .dataframe thead th {\n",
       "        text-align: right;\n",
       "    }\n",
       "</style>\n",
       "<table border=\"1\" class=\"dataframe\">\n",
       "  <thead>\n",
       "    <tr style=\"text-align: right;\">\n",
       "      <th></th>\n",
       "      <th>student_id</th>\n",
       "    </tr>\n",
       "  </thead>\n",
       "  <tbody>\n",
       "    <tr>\n",
       "      <th>0</th>\n",
       "      <td>581585</td>\n",
       "    </tr>\n",
       "    <tr>\n",
       "      <th>1</th>\n",
       "      <td>5723133</td>\n",
       "    </tr>\n",
       "    <tr>\n",
       "      <th>2</th>\n",
       "      <td>3276743</td>\n",
       "    </tr>\n",
       "    <tr>\n",
       "      <th>3</th>\n",
       "      <td>4238589</td>\n",
       "    </tr>\n",
       "    <tr>\n",
       "      <th>4</th>\n",
       "      <td>4475369</td>\n",
       "    </tr>\n",
       "    <tr>\n",
       "      <th>...</th>\n",
       "      <td>...</td>\n",
       "    </tr>\n",
       "    <tr>\n",
       "      <th>8336</th>\n",
       "      <td>1794344</td>\n",
       "    </tr>\n",
       "    <tr>\n",
       "      <th>8337</th>\n",
       "      <td>296883</td>\n",
       "    </tr>\n",
       "    <tr>\n",
       "      <th>8338</th>\n",
       "      <td>3598448</td>\n",
       "    </tr>\n",
       "    <tr>\n",
       "      <th>8339</th>\n",
       "      <td>3610547</td>\n",
       "    </tr>\n",
       "    <tr>\n",
       "      <th>8340</th>\n",
       "      <td>205705</td>\n",
       "    </tr>\n",
       "  </tbody>\n",
       "</table>\n",
       "<p>8341 rows × 1 columns</p>\n",
       "</div>"
      ],
      "text/plain": [
       "      student_id\n",
       "0         581585\n",
       "1        5723133\n",
       "2        3276743\n",
       "3        4238589\n",
       "4        4475369\n",
       "...          ...\n",
       "8336     1794344\n",
       "8337      296883\n",
       "8338     3598448\n",
       "8339     3610547\n",
       "8340      205705\n",
       "\n",
       "[8341 rows x 1 columns]"
      ]
     },
     "execution_count": 419,
     "metadata": {},
     "output_type": "execute_result"
    }
   ],
   "source": [
    "active_studs = pd.read_csv('Проект_2_active_studs.csv', sep=',')\n",
    "active_studs"
   ]
  },
  {
   "cell_type": "code",
   "execution_count": 420,
   "id": "809f6dea",
   "metadata": {},
   "outputs": [
    {
     "data": {
      "text/html": [
       "<div>\n",
       "<style scoped>\n",
       "    .dataframe tbody tr th:only-of-type {\n",
       "        vertical-align: middle;\n",
       "    }\n",
       "\n",
       "    .dataframe tbody tr th {\n",
       "        vertical-align: top;\n",
       "    }\n",
       "\n",
       "    .dataframe thead th {\n",
       "        text-align: right;\n",
       "    }\n",
       "</style>\n",
       "<table border=\"1\" class=\"dataframe\">\n",
       "  <thead>\n",
       "    <tr style=\"text-align: right;\">\n",
       "      <th></th>\n",
       "      <th>student_id</th>\n",
       "      <th>rev</th>\n",
       "    </tr>\n",
       "  </thead>\n",
       "  <tbody>\n",
       "    <tr>\n",
       "      <th>0</th>\n",
       "      <td>1627</td>\n",
       "      <td>990.0</td>\n",
       "    </tr>\n",
       "    <tr>\n",
       "      <th>1</th>\n",
       "      <td>3185</td>\n",
       "      <td>690.0</td>\n",
       "    </tr>\n",
       "    <tr>\n",
       "      <th>2</th>\n",
       "      <td>25973</td>\n",
       "      <td>690.0</td>\n",
       "    </tr>\n",
       "    <tr>\n",
       "      <th>3</th>\n",
       "      <td>26280</td>\n",
       "      <td>690.0</td>\n",
       "    </tr>\n",
       "    <tr>\n",
       "      <th>4</th>\n",
       "      <td>100300</td>\n",
       "      <td>990.0</td>\n",
       "    </tr>\n",
       "    <tr>\n",
       "      <th>...</th>\n",
       "      <td>...</td>\n",
       "      <td>...</td>\n",
       "    </tr>\n",
       "    <tr>\n",
       "      <th>536</th>\n",
       "      <td>5645737</td>\n",
       "      <td>1900.0</td>\n",
       "    </tr>\n",
       "    <tr>\n",
       "      <th>537</th>\n",
       "      <td>5651566</td>\n",
       "      <td>1900.0</td>\n",
       "    </tr>\n",
       "    <tr>\n",
       "      <th>538</th>\n",
       "      <td>5662322</td>\n",
       "      <td>1900.0</td>\n",
       "    </tr>\n",
       "    <tr>\n",
       "      <th>539</th>\n",
       "      <td>5681918</td>\n",
       "      <td>1900.0</td>\n",
       "    </tr>\n",
       "    <tr>\n",
       "      <th>540</th>\n",
       "      <td>5740903</td>\n",
       "      <td>1900.0</td>\n",
       "    </tr>\n",
       "  </tbody>\n",
       "</table>\n",
       "<p>541 rows × 2 columns</p>\n",
       "</div>"
      ],
      "text/plain": [
       "     student_id     rev\n",
       "0          1627   990.0\n",
       "1          3185   690.0\n",
       "2         25973   690.0\n",
       "3         26280   690.0\n",
       "4        100300   990.0\n",
       "..          ...     ...\n",
       "536     5645737  1900.0\n",
       "537     5651566  1900.0\n",
       "538     5662322  1900.0\n",
       "539     5681918  1900.0\n",
       "540     5740903  1900.0\n",
       "\n",
       "[541 rows x 2 columns]"
      ]
     },
     "execution_count": 420,
     "metadata": {},
     "output_type": "execute_result"
    }
   ],
   "source": [
    "checks = pd.read_csv('Проект_2_checks.csv', sep=';')\n",
    "checks"
   ]
  },
  {
   "cell_type": "code",
   "execution_count": 28,
   "id": "f1bbc2db",
   "metadata": {},
   "outputs": [
    {
     "data": {
      "text/html": [
       "<div>\n",
       "<style scoped>\n",
       "    .dataframe tbody tr th:only-of-type {\n",
       "        vertical-align: middle;\n",
       "    }\n",
       "\n",
       "    .dataframe tbody tr th {\n",
       "        vertical-align: top;\n",
       "    }\n",
       "\n",
       "    .dataframe thead th {\n",
       "        text-align: right;\n",
       "    }\n",
       "</style>\n",
       "<table border=\"1\" class=\"dataframe\">\n",
       "  <thead>\n",
       "    <tr style=\"text-align: right;\">\n",
       "      <th></th>\n",
       "      <th>id</th>\n",
       "      <th>rev</th>\n",
       "    </tr>\n",
       "  </thead>\n",
       "  <tbody>\n",
       "    <tr>\n",
       "      <th>0</th>\n",
       "      <td>1627</td>\n",
       "      <td>990.0</td>\n",
       "    </tr>\n",
       "    <tr>\n",
       "      <th>1</th>\n",
       "      <td>3185</td>\n",
       "      <td>690.0</td>\n",
       "    </tr>\n",
       "    <tr>\n",
       "      <th>2</th>\n",
       "      <td>25973</td>\n",
       "      <td>690.0</td>\n",
       "    </tr>\n",
       "    <tr>\n",
       "      <th>3</th>\n",
       "      <td>26280</td>\n",
       "      <td>690.0</td>\n",
       "    </tr>\n",
       "    <tr>\n",
       "      <th>4</th>\n",
       "      <td>100300</td>\n",
       "      <td>990.0</td>\n",
       "    </tr>\n",
       "    <tr>\n",
       "      <th>...</th>\n",
       "      <td>...</td>\n",
       "      <td>...</td>\n",
       "    </tr>\n",
       "    <tr>\n",
       "      <th>536</th>\n",
       "      <td>5645737</td>\n",
       "      <td>1900.0</td>\n",
       "    </tr>\n",
       "    <tr>\n",
       "      <th>537</th>\n",
       "      <td>5651566</td>\n",
       "      <td>1900.0</td>\n",
       "    </tr>\n",
       "    <tr>\n",
       "      <th>538</th>\n",
       "      <td>5662322</td>\n",
       "      <td>1900.0</td>\n",
       "    </tr>\n",
       "    <tr>\n",
       "      <th>539</th>\n",
       "      <td>5681918</td>\n",
       "      <td>1900.0</td>\n",
       "    </tr>\n",
       "    <tr>\n",
       "      <th>540</th>\n",
       "      <td>5740903</td>\n",
       "      <td>1900.0</td>\n",
       "    </tr>\n",
       "  </tbody>\n",
       "</table>\n",
       "<p>541 rows × 2 columns</p>\n",
       "</div>"
      ],
      "text/plain": [
       "          id     rev\n",
       "0       1627   990.0\n",
       "1       3185   690.0\n",
       "2      25973   690.0\n",
       "3      26280   690.0\n",
       "4     100300   990.0\n",
       "..       ...     ...\n",
       "536  5645737  1900.0\n",
       "537  5651566  1900.0\n",
       "538  5662322  1900.0\n",
       "539  5681918  1900.0\n",
       "540  5740903  1900.0\n",
       "\n",
       "[541 rows x 2 columns]"
      ]
     },
     "execution_count": 28,
     "metadata": {},
     "output_type": "execute_result"
    }
   ],
   "source": [
    "checks = checks.rename(columns={'student_id': 'id'})\n",
    "checks"
   ]
  },
  {
   "cell_type": "code",
   "execution_count": 282,
   "id": "ca380fc9",
   "metadata": {},
   "outputs": [
    {
     "data": {
      "text/plain": [
       "count     541.000000\n",
       "mean     1059.752317\n",
       "std       762.712359\n",
       "min       199.000000\n",
       "25%       290.000000\n",
       "50%       840.000000\n",
       "75%      1900.000000\n",
       "max      4650.000000\n",
       "Name: rev, dtype: float64"
      ]
     },
     "execution_count": 282,
     "metadata": {},
     "output_type": "execute_result"
    }
   ],
   "source": [
    "checks.rev.describe()"
   ]
  },
  {
   "cell_type": "markdown",
   "id": "8f0ae315",
   "metadata": {},
   "source": [
    "Видим, что минимальная покупка составляет 199, максимальная - 4650. Среднее существенно больше медианы, посмотрим на гистограмму распределения"
   ]
  },
  {
   "cell_type": "code",
   "execution_count": 14,
   "id": "3b135e41",
   "metadata": {},
   "outputs": [
    {
     "name": "stderr",
     "output_type": "stream",
     "text": [
      "D:\\LEON\\Anaconda\\lib\\site-packages\\seaborn\\distributions.py:2557: FutureWarning: `distplot` is a deprecated function and will be removed in a future version. Please adapt your code to use either `displot` (a figure-level function with similar flexibility) or `histplot` (an axes-level function for histograms).\n",
      "  warnings.warn(msg, FutureWarning)\n"
     ]
    },
    {
     "data": {
      "text/plain": [
       "<AxesSubplot:xlabel='rev', ylabel='Density'>"
      ]
     },
     "execution_count": 14,
     "metadata": {},
     "output_type": "execute_result"
    },
    {
     "data": {
      "image/png": "[encoded data removed]",
      "text/plain": [
       "<Figure size 432x288 with 1 Axes>"
      ]
     },
     "metadata": {
      "needs_background": "light"
     },
     "output_type": "display_data"
    }
   ],
   "source": [
    "sns.distplot(checks.rev)"
   ]
  },
  {
   "cell_type": "markdown",
   "id": "ee135480",
   "metadata": {},
   "source": [
    "Видим, что общее распределение потраченных денег (включая оплаты и тестовой, и контрольной групп) двумодальное. Большое количество людей покупают на небольшие суммы до 1000, также много пользователей покупают на средние суммы около 2000. Гораздо реже встречаются чеки на другие суммы"
   ]
  },
  {
   "cell_type": "markdown",
   "id": "06561997",
   "metadata": {},
   "source": [
    "Одна из метрик для анализа - конверсия в покупку. Посчитаем, какой процент тех, кто заходил на сайт во время проведения эксперимента, совершил покупку, отличается ли это значения между группами и являются ли эти различия статистически значимыми"
   ]
  },
  {
   "cell_type": "markdown",
   "id": "140b4eb4",
   "metadata": {},
   "source": [
    "Перед этим сразу посмотрим, нет ли ошибок в выгрузке - нет ли повторяющихся айди, не присвоены ли разные группы одному и тому же айди"
   ]
  },
  {
   "cell_type": "code",
   "execution_count": 41,
   "id": "8763e20e",
   "metadata": {},
   "outputs": [
    {
     "data": {
      "text/plain": [
       "74484"
      ]
     },
     "execution_count": 41,
     "metadata": {},
     "output_type": "execute_result"
    }
   ],
   "source": [
    "groups.id.nunique()"
   ]
  },
  {
   "cell_type": "markdown",
   "id": "659e82d2",
   "metadata": {},
   "source": [
    "Видим, что кол-во уникальных айди равно кол-ву строк в таблице. Можно переходить к анализу"
   ]
  },
  {
   "cell_type": "code",
   "execution_count": 35,
   "id": "b48cba5f",
   "metadata": {},
   "outputs": [
    {
     "data": {
      "text/plain": [
       "id          int64\n",
       "grp        object\n",
       "active    float64\n",
       "rev       float64\n",
       "dtype: object"
      ]
     },
     "execution_count": 35,
     "metadata": {},
     "output_type": "execute_result"
    }
   ],
   "source": [
    "df.dtypes"
   ]
  },
  {
   "cell_type": "code",
   "execution_count": 288,
   "id": "78dd7e3a",
   "metadata": {},
   "outputs": [
    {
     "data": {
      "text/html": [
       "<div>\n",
       "<style scoped>\n",
       "    .dataframe tbody tr th:only-of-type {\n",
       "        vertical-align: middle;\n",
       "    }\n",
       "\n",
       "    .dataframe tbody tr th {\n",
       "        vertical-align: top;\n",
       "    }\n",
       "\n",
       "    .dataframe thead th {\n",
       "        text-align: right;\n",
       "    }\n",
       "</style>\n",
       "<table border=\"1\" class=\"dataframe\">\n",
       "  <thead>\n",
       "    <tr style=\"text-align: right;\">\n",
       "      <th></th>\n",
       "      <th>id</th>\n",
       "      <th>grp</th>\n",
       "      <th>rev</th>\n",
       "    </tr>\n",
       "  </thead>\n",
       "  <tbody>\n",
       "    <tr>\n",
       "      <th>0</th>\n",
       "      <td>581585</td>\n",
       "      <td>A</td>\n",
       "      <td>0.0</td>\n",
       "    </tr>\n",
       "    <tr>\n",
       "      <th>1</th>\n",
       "      <td>5723133</td>\n",
       "      <td>A</td>\n",
       "      <td>0.0</td>\n",
       "    </tr>\n",
       "    <tr>\n",
       "      <th>2</th>\n",
       "      <td>3276743</td>\n",
       "      <td>B</td>\n",
       "      <td>0.0</td>\n",
       "    </tr>\n",
       "    <tr>\n",
       "      <th>3</th>\n",
       "      <td>4238589</td>\n",
       "      <td>A</td>\n",
       "      <td>0.0</td>\n",
       "    </tr>\n",
       "    <tr>\n",
       "      <th>4</th>\n",
       "      <td>4475369</td>\n",
       "      <td>B</td>\n",
       "      <td>0.0</td>\n",
       "    </tr>\n",
       "  </tbody>\n",
       "</table>\n",
       "</div>"
      ],
      "text/plain": [
       "        id grp  rev\n",
       "0   581585   A  0.0\n",
       "1  5723133   A  0.0\n",
       "2  3276743   B  0.0\n",
       "3  4238589   A  0.0\n",
       "4  4475369   B  0.0"
      ]
     },
     "execution_count": 288,
     "metadata": {},
     "output_type": "execute_result"
    }
   ],
   "source": [
    "active_studs = active_studs.rename(columns={'student_id': 'id'})\n",
    "groups = pd.concat([groups, groups_add])\n",
    "active_studs = active_studs.merge(groups, on='id', how='left')\n",
    "active_studs = active_studs.merge(checks.rename(columns={'student_id': 'id'}), on='id', how='left').fillna(0)\n",
    "active_studs.head(5)"
   ]
  },
  {
   "cell_type": "markdown",
   "id": "5832ea6a",
   "metadata": {},
   "source": [
    "Как мы видели раньше, минимальная сумма в таблице с оплатами - 199, поэтому заполняем нулями всех тех, кто заходил на сайт, но не совершил покупки"
   ]
  },
  {
   "cell_type": "code",
   "execution_count": 289,
   "id": "6d186b38",
   "metadata": {},
   "outputs": [],
   "source": [
    "active_studs['conversion'] = active_studs['rev'].apply(lambda x: 1 if x > 0 else 0)\n",
    "active_studs['status'] = active_studs['rev'].apply(lambda x: 'conversion' if x > 0 else 'not_converted')"
   ]
  },
  {
   "cell_type": "code",
   "execution_count": 290,
   "id": "b7b8fccf",
   "metadata": {},
   "outputs": [
    {
     "data": {
      "text/html": [
       "<div>\n",
       "<style scoped>\n",
       "    .dataframe tbody tr th:only-of-type {\n",
       "        vertical-align: middle;\n",
       "    }\n",
       "\n",
       "    .dataframe tbody tr th {\n",
       "        vertical-align: top;\n",
       "    }\n",
       "\n",
       "    .dataframe thead th {\n",
       "        text-align: right;\n",
       "    }\n",
       "</style>\n",
       "<table border=\"1\" class=\"dataframe\">\n",
       "  <thead>\n",
       "    <tr style=\"text-align: right;\">\n",
       "      <th></th>\n",
       "      <th>grp</th>\n",
       "      <th>conversion</th>\n",
       "    </tr>\n",
       "  </thead>\n",
       "  <tbody>\n",
       "    <tr>\n",
       "      <th>0</th>\n",
       "      <td>A</td>\n",
       "      <td>0.050715</td>\n",
       "    </tr>\n",
       "    <tr>\n",
       "      <th>1</th>\n",
       "      <td>B</td>\n",
       "      <td>0.046156</td>\n",
       "    </tr>\n",
       "  </tbody>\n",
       "</table>\n",
       "</div>"
      ],
      "text/plain": [
       "  grp  conversion\n",
       "0   A    0.050715\n",
       "1   B    0.046156"
      ]
     },
     "execution_count": 290,
     "metadata": {},
     "output_type": "execute_result"
    }
   ],
   "source": [
    "active_studs.groupby('grp', as_index=False).agg({'conversion': 'mean'})"
   ]
  },
  {
   "cell_type": "markdown",
   "id": "e71705dd",
   "metadata": {},
   "source": [
    "Конверсия в оплату увеличилась в тестовой группе на 0.5 процентных пункта. Проверим статистическую значимость. Так как обе переменные номинативные (тестовая группа и статус \"сконвертировался\"/\"не сконвертировался\"), используем таблицы сопряженности и проверим критерием хи-квадрат"
   ]
  },
  {
   "cell_type": "code",
   "execution_count": 292,
   "id": "d56ccb3f",
   "metadata": {},
   "outputs": [],
   "source": [
    "stat, p, dof, expected = chi2_contingency(pd.crosstab(active_studs.conversion, active_studs.grp))"
   ]
  },
  {
   "cell_type": "code",
   "execution_count": 293,
   "id": "ed45c568",
   "metadata": {},
   "outputs": [
    {
     "data": {
      "text/plain": [
       "(0.48480826522557896, 0.48625240457231045)"
      ]
     },
     "execution_count": 293,
     "metadata": {},
     "output_type": "execute_result"
    }
   ],
   "source": [
    "stat, p"
   ]
  },
  {
   "cell_type": "markdown",
   "id": "7ba13349",
   "metadata": {},
   "source": [
    "Получился очень высокий пи-велью - не можем отвергнуть гипотезу об отсутствии различий. Следовательно не можем сделать вывод о том, что новая механика оплаты стат значимо не повлияла на конверсию в покупку"
   ]
  },
  {
   "cell_type": "markdown",
   "id": "4366a3fd",
   "metadata": {},
   "source": [
    "Следующая метрика, которую необходимо исследовать - ARPPU. Проверим, есть ли разница в среднем чеке и является ли она статистически значимой"
   ]
  },
  {
   "cell_type": "code",
   "execution_count": 295,
   "id": "99d1d571",
   "metadata": {},
   "outputs": [
    {
     "data": {
      "text/html": [
       "<div>\n",
       "<style scoped>\n",
       "    .dataframe tbody tr th:only-of-type {\n",
       "        vertical-align: middle;\n",
       "    }\n",
       "\n",
       "    .dataframe tbody tr th {\n",
       "        vertical-align: top;\n",
       "    }\n",
       "\n",
       "    .dataframe thead th {\n",
       "        text-align: right;\n",
       "    }\n",
       "</style>\n",
       "<table border=\"1\" class=\"dataframe\">\n",
       "  <thead>\n",
       "    <tr style=\"text-align: right;\">\n",
       "      <th></th>\n",
       "      <th>id</th>\n",
       "      <th>rev</th>\n",
       "      <th>grp</th>\n",
       "    </tr>\n",
       "  </thead>\n",
       "  <tbody>\n",
       "    <tr>\n",
       "      <th>0</th>\n",
       "      <td>1627</td>\n",
       "      <td>990.0</td>\n",
       "      <td>A</td>\n",
       "    </tr>\n",
       "    <tr>\n",
       "      <th>1</th>\n",
       "      <td>3185</td>\n",
       "      <td>690.0</td>\n",
       "      <td>B</td>\n",
       "    </tr>\n",
       "    <tr>\n",
       "      <th>2</th>\n",
       "      <td>25973</td>\n",
       "      <td>690.0</td>\n",
       "      <td>B</td>\n",
       "    </tr>\n",
       "    <tr>\n",
       "      <th>3</th>\n",
       "      <td>26280</td>\n",
       "      <td>690.0</td>\n",
       "      <td>B</td>\n",
       "    </tr>\n",
       "    <tr>\n",
       "      <th>4</th>\n",
       "      <td>100300</td>\n",
       "      <td>990.0</td>\n",
       "      <td>B</td>\n",
       "    </tr>\n",
       "  </tbody>\n",
       "</table>\n",
       "</div>"
      ],
      "text/plain": [
       "       id    rev grp\n",
       "0    1627  990.0   A\n",
       "1    3185  690.0   B\n",
       "2   25973  690.0   B\n",
       "3   26280  690.0   B\n",
       "4  100300  990.0   B"
      ]
     },
     "execution_count": 295,
     "metadata": {},
     "output_type": "execute_result"
    }
   ],
   "source": [
    "checks = checks.rename(columns={'student_id': 'id'})\n",
    "checks = checks.merge(groups, on='id', how='left')\n",
    "checks.head(5)"
   ]
  },
  {
   "cell_type": "code",
   "execution_count": 296,
   "id": "3b5d6f74",
   "metadata": {},
   "outputs": [
    {
     "data": {
      "text/html": [
       "<div>\n",
       "<style scoped>\n",
       "    .dataframe tbody tr th:only-of-type {\n",
       "        vertical-align: middle;\n",
       "    }\n",
       "\n",
       "    .dataframe tbody tr th {\n",
       "        vertical-align: top;\n",
       "    }\n",
       "\n",
       "    .dataframe thead th {\n",
       "        text-align: right;\n",
       "    }\n",
       "</style>\n",
       "<table border=\"1\" class=\"dataframe\">\n",
       "  <thead>\n",
       "    <tr style=\"text-align: right;\">\n",
       "      <th></th>\n",
       "      <th>rev</th>\n",
       "    </tr>\n",
       "    <tr>\n",
       "      <th>grp</th>\n",
       "      <th></th>\n",
       "    </tr>\n",
       "  </thead>\n",
       "  <tbody>\n",
       "    <tr>\n",
       "      <th>A</th>\n",
       "      <td>860.710280</td>\n",
       "    </tr>\n",
       "    <tr>\n",
       "      <th>B</th>\n",
       "      <td>1108.824893</td>\n",
       "    </tr>\n",
       "  </tbody>\n",
       "</table>\n",
       "</div>"
      ],
      "text/plain": [
       "             rev\n",
       "grp             \n",
       "A     860.710280\n",
       "B    1108.824893"
      ]
     },
     "execution_count": 296,
     "metadata": {},
     "output_type": "execute_result"
    }
   ],
   "source": [
    "checks.groupby('grp').agg({'rev': 'mean'})"
   ]
  },
  {
   "cell_type": "code",
   "execution_count": 297,
   "id": "9eec95bd",
   "metadata": {},
   "outputs": [
    {
     "data": {
      "text/plain": [
       "<AxesSubplot:xlabel='grp', ylabel='rev'>"
      ]
     },
     "execution_count": 297,
     "metadata": {},
     "output_type": "execute_result"
    },
    {
     "data": {
      "image/png": "[encoded data removed]",
      "text/plain": [
       "<Figure size 432x288 with 1 Axes>"
      ]
     },
     "metadata": {
      "needs_background": "light"
     },
     "output_type": "display_data"
    }
   ],
   "source": [
    "sns.boxplot(data=checks, x='grp', y='rev')"
   ]
  },
  {
   "cell_type": "markdown",
   "id": "f53eca04",
   "metadata": {},
   "source": [
    "Видим, что средний чек в тестовой группе заметно увеличился (на 28%)"
   ]
  },
  {
   "cell_type": "markdown",
   "id": "35145594",
   "metadata": {},
   "source": [
    "Распределение не является нормальным, поэтому применим непараметрический тест Манна-Уитни"
   ]
  },
  {
   "cell_type": "code",
   "execution_count": 93,
   "id": "c990e3cf",
   "metadata": {},
   "outputs": [
    {
     "data": {
      "text/plain": [
       "MannwhitneyuResult(statistic=17862.0, pvalue=9.658027498190076e-05)"
      ]
     },
     "execution_count": 93,
     "metadata": {},
     "output_type": "execute_result"
    }
   ],
   "source": [
    "scipy.stats.mannwhitneyu(checks[checks['grp'] == 'A']['rev'], checks[checks['grp'] == 'B']['rev'])"
   ]
  },
  {
   "cell_type": "markdown",
   "id": "8e88ee7b",
   "metadata": {},
   "source": [
    "Пи-велью очень низкий, отвергаем гипотезу о равенстве средних чеков. Новая система оплаты статистически значимо повлияла на ARPPU - средний чек в тестовой группе вырос на 248 (на 28%)"
   ]
  },
  {
   "cell_type": "code",
   "execution_count": 96,
   "id": "6a39fbe4",
   "metadata": {},
   "outputs": [
    {
     "name": "stderr",
     "output_type": "stream",
     "text": [
      "D:\\LEON\\Anaconda\\lib\\site-packages\\seaborn\\distributions.py:2557: FutureWarning: `distplot` is a deprecated function and will be removed in a future version. Please adapt your code to use either `displot` (a figure-level function with similar flexibility) or `histplot` (an axes-level function for histograms).\n",
      "  warnings.warn(msg, FutureWarning)\n",
      "D:\\LEON\\Anaconda\\lib\\site-packages\\seaborn\\distributions.py:2557: FutureWarning: `distplot` is a deprecated function and will be removed in a future version. Please adapt your code to use either `displot` (a figure-level function with similar flexibility) or `histplot` (an axes-level function for histograms).\n",
      "  warnings.warn(msg, FutureWarning)\n"
     ]
    },
    {
     "data": {
      "text/plain": [
       "<AxesSubplot:xlabel='rev', ylabel='Density'>"
      ]
     },
     "execution_count": 96,
     "metadata": {},
     "output_type": "execute_result"
    },
    {
     "data": {
      "image/png": "[encoded data removed]",
      "text/plain": [
       "<Figure size 432x288 with 1 Axes>"
      ]
     },
     "metadata": {
      "needs_background": "light"
     },
     "output_type": "display_data"
    }
   ],
   "source": [
    "sns.distplot(checks.query(\"grp == 'A'\").rev)\n",
    "sns.distplot(checks.query(\"grp == 'B'\").rev)"
   ]
  },
  {
   "cell_type": "markdown",
   "id": "678b7d39",
   "metadata": {},
   "source": [
    "На графике распределения видим причину, за счет которой произошло такое изменение - благодаря новой оплате пользователи из тестовой группы стали гораздо чаще совершать крупные покупки стоимостью около 2000 (по сравнению с контрольной группой). Распределение покупок пользователей из тестовой выборки стало двумодальным"
   ]
  },
  {
   "cell_type": "markdown",
   "id": "566f8ed9",
   "metadata": {},
   "source": [
    "Конверсия в покупку увеличилась несильно и статистически не значимо. Нет падения конверсии, что уже хорошо. При этом средний чек вырос сильно и значимо, увеличилось кол-во покупок на крупную сумму.\n",
    "<br>\n",
    "Вывод: новую механику стоит запускать на всех пользователей"
   ]
  },
  {
   "cell_type": "markdown",
   "id": "9a8b7943",
   "metadata": {},
   "source": [
    "Теперь автоматизируем анализ для последующих ежедневных обновлений метрик"
   ]
  },
  {
   "cell_type": "markdown",
   "id": "c69c41cd",
   "metadata": {},
   "source": [
    "Каждый день нам будут присылать новые файлы с новыми пользователями, которые заходили на сайт, и которым присваивалась контрольная или тестовая группа. Файлы называются groups_add. Напишем функцию, которая автоматически будет пересчитывать метрики и проверять их стат значимость с учетом новых пользователей"
   ]
  },
  {
   "cell_type": "markdown",
   "id": "92298d5a",
   "metadata": {},
   "source": [
    "Перед первым запуском функции необходимо заново считать исходные таблицы, так как выше они были преобразованы, а функция предполагает автоматические расчеты на исходных данных.\n",
    "<br>\n",
    "Перед последующими запусками следует обновлять только таблицу groups_add, так как каждый день будет приходить новая.\n",
    "<br>\n",
    "После работы функции необходимо запустить строчку, которая контакенирует таблицы groups и groups_add и записывает их в groups."
   ]
  },
  {
   "cell_type": "code",
   "execution_count": 421,
   "id": "b9f17ba6",
   "metadata": {},
   "outputs": [],
   "source": [
    "def metrics(groups, groups_add, active_studs, checks, day):\n",
    "    \n",
    "    active_studs = active_studs.rename(columns={'student_id': 'id'})\n",
    "    groups = pd.concat([groups, groups_add])\n",
    "    active_studs = active_studs.merge(groups, on='id', how='left')\n",
    "    active_studs = active_studs.merge(checks.rename(columns={'student_id': 'id'}), on='id', how='left').fillna(0)\n",
    "    \n",
    "    active_studs['conversion'] = active_studs['rev'].apply(lambda x: 1 if x > 0 else 0)\n",
    "    active_studs['status'] = active_studs['rev'].apply(lambda x: 'conversion' if x > 0 else 'not_converted')\n",
    "    \n",
    "    conversion = active_studs.groupby('grp', as_index=False).agg({'conversion': 'mean'})\n",
    "    conversion['date'] = day\n",
    "    \n",
    "    stat, p_conversion, dof, expected = chi2_contingency(pd.crosstab(active_studs.conversion, active_studs.grp))\n",
    "    \n",
    "    if p_conversion > 0.05:\n",
    "        summary_conversion = 'Различия между конверсиями статистически не значимы'\n",
    "    else:\n",
    "        summary_conversion = 'Различия между конверсиями статистически значимы. В тестовой группе конверсия {relations} на {percent}'\n",
    "    \n",
    "    p_conversion = 'p-value = {}'.format(p_conversion.round(3))\n",
    "    \n",
    "    if conversion[conversion['grp'] == 'B']['conversion'].values > conversion[conversion['grp'] == 'A']['conversion'].values:\n",
    "        relation_conversion = 'больше'\n",
    "        percent_conversion = str(int((conversion[conversion['grp'] == 'B']['conversion'].values / conversion[conversion['grp'] == 'A']['conversion'].values - 1) * 100)) + '%'\n",
    "    else:\n",
    "        relation_conversion = 'меньше'\n",
    "        percent_conversion = str(int((conversion[conversion['grp'] == 'A']['conversion'].values / conversion[conversion['grp'] == 'B']['conversion'].values - 1) * 100)) + '%'\n",
    "    \n",
    "    summary_conversion = summary_conversion.format(relation=relation_conversion, percent=percent_conversion)\n",
    "    \n",
    "    checks = checks.rename(columns={'student_id': 'id'})\n",
    "    checks = checks.merge(groups, on='id', how='left')\n",
    "    \n",
    "    ARPPU = checks.groupby('grp', as_index=False).agg({'rev': 'mean'}).rename(columns={'rev': 'ARPPU'})\n",
    "    ARPPU['date'] = day\n",
    "    \n",
    "    p_shapiro_A = scipy.stats.shapiro(checks[checks['grp'] == 'A']['rev']).pvalue\n",
    "    p_shapiro_B = scipy.stats.shapiro(checks[checks['grp'] == 'B']['rev']).pvalue\n",
    "    \n",
    "    if p_shapiro_A > 0.05 and p_shapiro_B > 0.05:\n",
    "        p_check = scipy.stats.ttest_ind(checks[checks['grp'] == 'A']['rev'],\n",
    "                              checks[checks['grp'] == 'B']['rev']).pvalue\n",
    "    else:\n",
    "        U, p_check = scipy.stats.mannwhitneyu(checks[checks['grp'] == 'A']['rev'],\n",
    "                                           checks[checks['grp'] == 'B']['rev'])\n",
    "        \n",
    "    if p_check > 0.05:\n",
    "        summary_arppu = 'Различия между ARPPU статистически не значимы.'\n",
    "    else:\n",
    "        summary_arppu = 'Различия между ARPPU статистически значимы. В тестовой группе ARPPU {relation} на {percent}'\n",
    "    \n",
    "    p_check = 'p-value = {}'.format(p_check.round(3))\n",
    "    \n",
    "    if ARPPU[ARPPU['grp'] == 'B']['ARPPU'].values > ARPPU[ARPPU['grp'] == 'A']['ARPPU'].values:\n",
    "        relation_arppu = 'больше'\n",
    "        percent_arppu = str(int((ARPPU[ARPPU['grp'] == 'B']['ARPPU'].values / ARPPU[ARPPU['grp'] == 'A']['ARPPU'].values - 1) * 100)) + '%'\n",
    "    else:\n",
    "        relation_arppu = 'меньше'\n",
    "        percent_arppu = str(int((ARPPU[ARPPU['grp'] == 'A']['ARPPU'].values / ARPPU[ARPPU['grp'] == 'B']['ARPPU'].values - 1) * 100)) + '%'\n",
    "    \n",
    "    summary_arppu = summary_arppu.format(relation=relation_arppu, percent=percent_arppu)\n",
    "    \n",
    "    return conversion, p_conversion, summary_conversion, ARPPU, p_check, summary_arppu"
   ]
  },
  {
   "cell_type": "code",
   "execution_count": 422,
   "id": "ce3612c8",
   "metadata": {},
   "outputs": [
    {
     "data": {
      "text/plain": [
       "(  grp  conversion        date\n",
       " 0   A    0.050715  09-08-2022\n",
       " 1   B    0.046156  09-08-2022,\n",
       " 'p-value = 0.486',\n",
       " 'Различия между конверсиями статистически не значимы',\n",
       "   grp        ARPPU        date\n",
       " 0   A   860.710280  09-08-2022\n",
       " 1   B  1108.824893  09-08-2022,\n",
       " 'p-value = 0.0',\n",
       " 'Различия между ARPPU статистически значимы. В тестовой группе ARPPU больше на 28%')"
      ]
     },
     "execution_count": 422,
     "metadata": {},
     "output_type": "execute_result"
    }
   ],
   "source": [
    "metrics(groups, groups_add, active_studs, checks, date.today().strftime(\"%d-%m-%Y\"))"
   ]
  },
  {
   "cell_type": "code",
   "execution_count": null,
   "id": "80e5a52d",
   "metadata": {},
   "outputs": [],
   "source": [
    "groups = pd.concat([groups, groups_add])"
   ]
  },
  {
   "cell_type": "markdown",
   "id": "5c2cc0cb",
   "metadata": {},
   "source": [
    "4 cтроки ниже запускаются единожды, чтобы создать таблицы для графиков. Позже в них будут добавляться результаты, полученные в следующие дни эксперимента. Строки закомментированны, чтобы случайно не запустить их (в таком случае все перезапишется)"
   ]
  },
  {
   "cell_type": "code",
   "execution_count": 416,
   "id": "577ca6a4",
   "metadata": {},
   "outputs": [
    {
     "data": {
      "text/html": [
       "<div>\n",
       "<style scoped>\n",
       "    .dataframe tbody tr th:only-of-type {\n",
       "        vertical-align: middle;\n",
       "    }\n",
       "\n",
       "    .dataframe tbody tr th {\n",
       "        vertical-align: top;\n",
       "    }\n",
       "\n",
       "    .dataframe thead th {\n",
       "        text-align: right;\n",
       "    }\n",
       "</style>\n",
       "<table border=\"1\" class=\"dataframe\">\n",
       "  <thead>\n",
       "    <tr style=\"text-align: right;\">\n",
       "      <th></th>\n",
       "      <th>grp</th>\n",
       "      <th>conversion</th>\n",
       "      <th>date</th>\n",
       "    </tr>\n",
       "  </thead>\n",
       "  <tbody>\n",
       "    <tr>\n",
       "      <th>0</th>\n",
       "      <td>A</td>\n",
       "      <td>0.050715</td>\n",
       "      <td>08-08-2022</td>\n",
       "    </tr>\n",
       "    <tr>\n",
       "      <th>1</th>\n",
       "      <td>B</td>\n",
       "      <td>0.046156</td>\n",
       "      <td>08-08-2022</td>\n",
       "    </tr>\n",
       "  </tbody>\n",
       "</table>\n",
       "</div>"
      ],
      "text/plain": [
       "  grp  conversion        date\n",
       "0   A    0.050715  08-08-2022\n",
       "1   B    0.046156  08-08-2022"
      ]
     },
     "execution_count": 416,
     "metadata": {},
     "output_type": "execute_result"
    }
   ],
   "source": [
    "# conversion_graph = metrics(groups, groups_add, active_studs, checks, date.today().strftime(\"%d-%m-%Y\"))[0]\n",
    "# conversion_graph"
   ]
  },
  {
   "cell_type": "code",
   "execution_count": 366,
   "id": "6ff5f823",
   "metadata": {},
   "outputs": [
    {
     "data": {
      "text/html": [
       "<div>\n",
       "<style scoped>\n",
       "    .dataframe tbody tr th:only-of-type {\n",
       "        vertical-align: middle;\n",
       "    }\n",
       "\n",
       "    .dataframe tbody tr th {\n",
       "        vertical-align: top;\n",
       "    }\n",
       "\n",
       "    .dataframe thead th {\n",
       "        text-align: right;\n",
       "    }\n",
       "</style>\n",
       "<table border=\"1\" class=\"dataframe\">\n",
       "  <thead>\n",
       "    <tr style=\"text-align: right;\">\n",
       "      <th></th>\n",
       "      <th>date</th>\n",
       "      <th>p_value</th>\n",
       "    </tr>\n",
       "  </thead>\n",
       "  <tbody>\n",
       "    <tr>\n",
       "      <th>0</th>\n",
       "      <td>08-08-2022</td>\n",
       "      <td>0.486</td>\n",
       "    </tr>\n",
       "  </tbody>\n",
       "</table>\n",
       "</div>"
      ],
      "text/plain": [
       "         date  p_value\n",
       "0  08-08-2022    0.486"
      ]
     },
     "execution_count": 366,
     "metadata": {},
     "output_type": "execute_result"
    }
   ],
   "source": [
    "# p_conversion_graph = pd.DataFrame({'date': [date.today().strftime(\"%d-%m-%Y\")],\n",
    "#                                    'p_value':[float(metrics(groups, groups_add, active_studs, checks, date.today().strftime(\"%d-%m-%Y\"))[1].split('= ')[1])]})\n",
    "# p_conversion_graph"
   ]
  },
  {
   "cell_type": "code",
   "execution_count": 363,
   "id": "a39861ba",
   "metadata": {},
   "outputs": [
    {
     "data": {
      "text/html": [
       "<div>\n",
       "<style scoped>\n",
       "    .dataframe tbody tr th:only-of-type {\n",
       "        vertical-align: middle;\n",
       "    }\n",
       "\n",
       "    .dataframe tbody tr th {\n",
       "        vertical-align: top;\n",
       "    }\n",
       "\n",
       "    .dataframe thead th {\n",
       "        text-align: right;\n",
       "    }\n",
       "</style>\n",
       "<table border=\"1\" class=\"dataframe\">\n",
       "  <thead>\n",
       "    <tr style=\"text-align: right;\">\n",
       "      <th></th>\n",
       "      <th>grp</th>\n",
       "      <th>ARPPU</th>\n",
       "      <th>date</th>\n",
       "    </tr>\n",
       "  </thead>\n",
       "  <tbody>\n",
       "    <tr>\n",
       "      <th>0</th>\n",
       "      <td>A</td>\n",
       "      <td>860.710280</td>\n",
       "      <td>08-08-2022</td>\n",
       "    </tr>\n",
       "    <tr>\n",
       "      <th>1</th>\n",
       "      <td>B</td>\n",
       "      <td>1108.824893</td>\n",
       "      <td>08-08-2022</td>\n",
       "    </tr>\n",
       "  </tbody>\n",
       "</table>\n",
       "</div>"
      ],
      "text/plain": [
       "  grp        ARPPU        date\n",
       "0   A   860.710280  08-08-2022\n",
       "1   B  1108.824893  08-08-2022"
      ]
     },
     "execution_count": 363,
     "metadata": {},
     "output_type": "execute_result"
    }
   ],
   "source": [
    "# arppu_graph = metrics(groups, groups_add, active_studs, checks, date.today().strftime(\"%d-%m-%Y\"))[3]\n",
    "# arppu_graph"
   ]
  },
  {
   "cell_type": "code",
   "execution_count": 364,
   "id": "de671b00",
   "metadata": {},
   "outputs": [
    {
     "data": {
      "text/html": [
       "<div>\n",
       "<style scoped>\n",
       "    .dataframe tbody tr th:only-of-type {\n",
       "        vertical-align: middle;\n",
       "    }\n",
       "\n",
       "    .dataframe tbody tr th {\n",
       "        vertical-align: top;\n",
       "    }\n",
       "\n",
       "    .dataframe thead th {\n",
       "        text-align: right;\n",
       "    }\n",
       "</style>\n",
       "<table border=\"1\" class=\"dataframe\">\n",
       "  <thead>\n",
       "    <tr style=\"text-align: right;\">\n",
       "      <th></th>\n",
       "      <th>date</th>\n",
       "      <th>p_value</th>\n",
       "    </tr>\n",
       "  </thead>\n",
       "  <tbody>\n",
       "    <tr>\n",
       "      <th>0</th>\n",
       "      <td>08-08-2022</td>\n",
       "      <td>0.0</td>\n",
       "    </tr>\n",
       "  </tbody>\n",
       "</table>\n",
       "</div>"
      ],
      "text/plain": [
       "         date  p_value\n",
       "0  08-08-2022      0.0"
      ]
     },
     "execution_count": 364,
     "metadata": {},
     "output_type": "execute_result"
    }
   ],
   "source": [
    "# p_arppu_graph = pd.DataFrame({'date': [date.today().strftime(\"%d-%m-%Y\")],\n",
    "#                               'p_value':[float(metrics(groups, groups_add, active_studs, checks, date.today().strftime(\"%d-%m-%Y\"))[4].split('= ')[1])]})\n",
    "# p_arppu_graph"
   ]
  },
  {
   "cell_type": "markdown",
   "id": "304ab110",
   "metadata": {},
   "source": [
    "Теперь добавим в уже существующие таблицы новые результаты, посчитанные функцией в очередной день эксперимента"
   ]
  },
  {
   "cell_type": "code",
   "execution_count": 423,
   "id": "ed947014",
   "metadata": {},
   "outputs": [],
   "source": [
    "conversion_graph = conversion_graph \\\n",
    "                    .append(metrics(groups, groups_add, active_studs, checks, date.today().strftime(\"%d-%m-%Y\"))[0])\n",
    "p_conversion_graph = p_conversion_graph \\\n",
    "                    .append(pd.DataFrame({'date': [date.today().strftime(\"%d-%m-%Y\")],\n",
    "                                          'p_value':[float(metrics(groups, groups_add, active_studs, checks, date.today().strftime(\"%d-%m-%Y\"))[1].split('= ')[1])]}))\n",
    "arppu_graph = arppu_graph \\\n",
    "                .append(metrics(groups, groups_add, active_studs, checks, date.today().strftime(\"%d-%m-%Y\"))[3])\n",
    "p_arppu_graph = p_arppu_graph \\\n",
    "                .append(pd.DataFrame({'date': [date.today().strftime(\"%d-%m-%Y\")],\n",
    "                                      'p_value':[float(metrics(groups, groups_add, active_studs, checks, date.today().strftime(\"%d-%m-%Y\"))[4].split('= ')[1])]}))"
   ]
  },
  {
   "cell_type": "markdown",
   "id": "08ce1016",
   "metadata": {},
   "source": [
    "Ниже строим графики.\n",
    "<br>\n",
    "Левая часть: сверху - динамика конверсий в группах, снизу - пи-велью теста на стат значимость различий между конверсиями. \n",
    "<br>\n",
    "Правая часть: сверху - динамика ARPPU в группах, снизу - пи-велью теста на стат значимость различий между ними."
   ]
  },
  {
   "cell_type": "markdown",
   "id": "bd207fd2",
   "metadata": {},
   "source": [
    "Эксперимент будет длиться несколько дней, и если один раз пи-велью окажется ниже красной пунктирной линии (альфа, равное 0.05), это еще не значит, что можно останавливать эксперимент. К концу эксперимента надо убедиться, что пи-велью последовательно находится ниже порогового значения. Сейчас на графике значения за 2 дня по каждому показателю совпадают, так как основаны на тех же самых данных - это сделано исключительно для наглядности"
   ]
  },
  {
   "cell_type": "code",
   "execution_count": 424,
   "id": "0d300327",
   "metadata": {},
   "outputs": [
    {
     "data": {
      "text/plain": [
       "<matplotlib.lines.Line2D at 0x177445925e0>"
      ]
     },
     "execution_count": 424,
     "metadata": {},
     "output_type": "execute_result"
    },
    {
     "data": {
      "image/png": "[encoded data removed]",
      "text/plain": [
       "<Figure size 720x576 with 4 Axes>"
      ]
     },
     "metadata": {
      "needs_background": "light"
     },
     "output_type": "display_data"
    }
   ],
   "source": [
    "fig, axs = plt.subplots(nrows=2, ncols=2, figsize=(10,8))\n",
    "fig.tight_layout()\n",
    "\n",
    "g1 = sns.lineplot(data=conversion_graph, x='date', y='conversion', hue='grp', ax=axs[0][0])\n",
    "g1.set(xlabel=None, ylabel=None)\n",
    "g1.set_title('Conversion rate by days')\n",
    "\n",
    "g2 = sns.lineplot(data=arppu_graph, x='date', y='ARPPU', hue='grp', ax=axs[0][1])\n",
    "g2.set(xlabel=None, ylabel=None)\n",
    "g2.set_title('ARPPU by days')\n",
    "\n",
    "g3 = sns.lineplot(data=p_conversion_graph, x='date', y='p_value', ax=axs[1][0])\n",
    "g3.set(xlabel=None, ylabel=None)\n",
    "g3.set_title('P-value (conversion test) by days')\n",
    "g3.axhline(0.05, ls='--', color='red')\n",
    "\n",
    "g4 = sns.lineplot(data=p_arppu_graph, x='date', y='p_value', ax=axs[1][1])\n",
    "g4.set(xlabel=None, ylabel=None)\n",
    "g4.set_title('P-value (ARPPU test) by days')\n",
    "g4.axhline(0.05, ls='--', color='red')"
   ]
  }
 ],
 "metadata": {
  "kernelspec": {
   "display_name": "Python 3",
   "language": "python",
   "name": "python3"
  },
  "language_info": {
   "codemirror_mode": {
    "name": "ipython",
    "version": 3
   },
   "file_extension": ".py",
   "mimetype": "text/x-python",
   "name": "python",
   "nbconvert_exporter": "python",
   "pygments_lexer": "ipython3",
   "version": "3.8.8"
  }
 },
 "nbformat": 4,
 "nbformat_minor": 5
}
